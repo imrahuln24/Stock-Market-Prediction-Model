{
  "cells": [
    {
      "cell_type": "code",
      "execution_count": 1,
      "metadata": {
        "id": "noaqlP8EJyO1"
      },
      "outputs": [],
      "source": [
        "# Importing necessary libraries\n",
        "import os\n",
        "import pandas as pd\n",
        "import numpy as np\n",
        "import matplotlib.pyplot as plt\n",
        "from pandas.plotting import lag_plot\n",
        "import warnings\n",
        "from sklearn.preprocessing import MinMaxScaler\n",
        "from keras.models import Sequential\n",
        "from keras.layers import LSTM, Dense, Dropout, Input"
      ]
    },
    {
      "cell_type": "code",
      "execution_count": 2,
      "metadata": {
        "id": "ajMhxg-pJyO4"
      },
      "outputs": [],
      "source": [
        "warnings.filterwarnings('ignore')"
      ]
    },
    {
      "cell_type": "code",
      "execution_count": 3,
      "metadata": {
        "id": "W6VRnAbwJyO5"
      },
      "outputs": [],
      "source": [
        "def convert_txt_to_csv(folder_path, target_csv_folder):\n",
        "    if not os.path.exists(target_csv_folder):\n",
        "        os.makedirs(target_csv_folder)\n",
        "\n",
        "    for filename in os.listdir(folder_path):\n",
        "        if filename.endswith('.txt'):\n",
        "            txt_file_path = os.path.join(folder_path, filename)\n",
        "\n",
        "            # Define the path for the corresponding CSV file\n",
        "            csv_file_path = os.path.join(target_csv_folder, filename.replace('.txt', '.csv'))\n",
        "\n",
        "            if os.path.exists(csv_file_path):\n",
        "                continue  # Skip to the next file\n",
        "\n",
        "            try:\n",
        "                dataframe = pd.read_csv(txt_file_path, delimiter=\",\")\n",
        "\n",
        "                dataframe.to_csv(csv_file_path, index=False)\n",
        "                print(f\"Converted {filename} to CSV and saved in {target_csv_folder}.\")\n",
        "            except Exception as e:\n",
        "                continue"
      ]
    },
    {
      "cell_type": "code",
      "execution_count": 4,
      "metadata": {
        "id": "RFDsIzHSJyO6"
      },
      "outputs": [],
      "source": [
        "# stocks_folder = \"Data/Stocks\"\n",
        "# etfs_folder = \"Data/ETFs\"\n",
        "# stocks_csv_folder = \"Data/Stocks_csv\"\n",
        "# etfs_csv_folder = \"Data/ETFs_csv\"\n",
        "\n",
        "# convert_txt_to_csv(stocks_folder, stocks_csv_folder)\n",
        "# convert_txt_to_csv(etfs_folder, etfs_csv_folder)"
      ]
    },
    {
      "cell_type": "markdown",
      "metadata": {
        "id": "01-I-IoaJyO6"
      },
      "source": [
        "# Constellation Software Stock Prediction"
      ]
    },
    {
      "cell_type": "code",
      "execution_count": 5,
      "metadata": {
        "colab": {
          "base_uri": "https://localhost:8080/"
        },
        "id": "u6i6X4gKJyO8",
        "outputId": "6c25986c-1923-49ca-ef94-9bb278434e1e"
      },
      "outputs": [
        {
          "name": "stdout",
          "output_type": "stream",
          "text": [
            "<class 'pandas.core.frame.DataFrame'>\n",
            "RangeIndex: 3201 entries, 0 to 3200\n",
            "Data columns (total 7 columns):\n",
            " #   Column   Non-Null Count  Dtype  \n",
            "---  ------   --------------  -----  \n",
            " 0   Date     3201 non-null   object \n",
            " 1   Open     3201 non-null   float64\n",
            " 2   High     3201 non-null   float64\n",
            " 3   Low      3201 non-null   float64\n",
            " 4   Close    3201 non-null   float64\n",
            " 5   Volume   3201 non-null   int64  \n",
            " 6   OpenInt  3201 non-null   int64  \n",
            "dtypes: float64(4), int64(2), object(1)\n",
            "memory usage: 175.2+ KB\n",
            "None\n"
          ]
        }
      ],
      "source": [
        "data = pd.read_csv('/home/anjan/Documents/ML/Proj/Data/Stocks_csv/csu.us.csv')\n",
        "print(data.info())"
      ]
    },
    {
      "cell_type": "code",
      "execution_count": 6,
      "metadata": {
        "colab": {
          "base_uri": "https://localhost:8080/"
        },
        "id": "DgJjAf24JyO8",
        "outputId": "32384f7b-8056-4ec8-c5a3-6ce7b3cf82e6"
      },
      "outputs": [
        {
          "name": "stdout",
          "output_type": "stream",
          "text": [
            "              Open         High          Low        Close        Volume  \\\n",
            "count  3201.000000  3201.000000  3201.000000  3201.000000  3.201000e+03   \n",
            "mean     12.819691    13.015868    12.614544    12.819516  1.570864e+05   \n",
            "std       7.042918     7.109862     6.977806     7.039915  1.652596e+05   \n",
            "min       2.060000     2.340000     1.940000     2.030000  1.700000e+03   \n",
            "25%       7.270000     7.460000     7.110000     7.300000  5.679800e+04   \n",
            "50%      10.290000    10.450000    10.150000    10.290000  1.090390e+05   \n",
            "75%      19.030000    19.350000    18.710000    19.070000  1.989380e+05   \n",
            "max      27.580000    27.900000    27.090000    27.500000  1.836610e+06   \n",
            "\n",
            "       OpenInt  \n",
            "count   3201.0  \n",
            "mean       0.0  \n",
            "std        0.0  \n",
            "min        0.0  \n",
            "25%        0.0  \n",
            "50%        0.0  \n",
            "75%        0.0  \n",
            "max        0.0  \n"
          ]
        }
      ],
      "source": [
        "print(data.describe())"
      ]
    },
    {
      "cell_type": "code",
      "execution_count": 7,
      "metadata": {
        "colab": {
          "base_uri": "https://localhost:8080/"
        },
        "id": "7irMGAKNJyO9",
        "outputId": "220f4df4-b565-47c2-88d8-4bc3e3d0ed31"
      },
      "outputs": [
        {
          "name": "stdout",
          "output_type": "stream",
          "text": [
            "Date       0\n",
            "Open       0\n",
            "High       0\n",
            "Low        0\n",
            "Close      0\n",
            "Volume     0\n",
            "OpenInt    0\n",
            "dtype: int64\n"
          ]
        }
      ],
      "source": [
        "null = data.isnull().sum()\n",
        "print(null)\n",
        "if null.any() > 0:\n",
        "    data = data.dropna()"
      ]
    },
    {
      "cell_type": "code",
      "execution_count": 8,
      "metadata": {
        "colab": {
          "base_uri": "https://localhost:8080/",
          "height": 452
        },
        "id": "u6dg_y1QJyO9",
        "outputId": "090fea6f-afa6-46c0-9c9a-41122c3755dd"
      },
      "outputs": [
        {
          "data": {
            "image/png": "[encoded data removed]",
            "text/plain": [
              "<Figure size 640x480 with 1 Axes>"
            ]
          },
          "metadata": {},
          "output_type": "display_data"
        }
      ],
      "source": [
        "data[['Close']].plot()\n",
        "plt.title(\"Constellation Software\")\n",
        "plt.show()"
      ]
    },
    {
      "cell_type": "code",
      "execution_count": 9,
      "metadata": {
        "colab": {
          "base_uri": "https://localhost:8080/",
          "height": 505
        },
        "id": "Cb9nc4EQJyO-",
        "outputId": "bce56e1d-e543-4e10-c58e-ae76eec020d5"
      },
      "outputs": [
        {
          "data": {
            "text/plain": [
              "Text(0.5, 1.0, 'Constellation Software Autocorrelation plot')"
            ]
          },
          "execution_count": 9,
          "metadata": {},
          "output_type": "execute_result"
        },
        {
          "data": {
            "image/png": "[encoded data removed]",
            "text/plain": [
              "<Figure size 700x500 with 1 Axes>"
            ]
          },
          "metadata": {},
          "output_type": "display_data"
        }
      ],
      "source": [
        "plt.figure(figsize=(7,5))\n",
        "lag_plot(data['Close'], lag=5)\n",
        "plt.title('Constellation Software Autocorrelation plot')"
      ]
    },
    {
      "cell_type": "code",
      "execution_count": 10,
      "metadata": {
        "id": "AlI2zuW-JyO_"
      },
      "outputs": [],
      "source": [
        "data['Date'] = pd.to_datetime(data['Date'])\n",
        "data.set_index('Date', inplace=True)"
      ]
    },
    {
      "cell_type": "code",
      "execution_count": 11,
      "metadata": {
        "colab": {
          "base_uri": "https://localhost:8080/",
          "height": 578
        },
        "id": "ytXjuJ0QJyPA",
        "outputId": "11dd8a92-9ce4-4414-bcf2-c382f743d0c6"
      },
      "outputs": [
        {
          "data": {
            "image/png": "[encoded data removed]",
            "text/plain": [
              "<Figure size 1000x800 with 2 Axes>"
            ]
          },
          "metadata": {},
          "output_type": "display_data"
        }
      ],
      "source": [
        "import seaborn as sns\n",
        "\n",
        "numeric_data = data.drop(columns=['OpenInt'])  # Drop 'OpenInt' if not useful, adjust as needed\n",
        "\n",
        "correlation_matrix = numeric_data.corr()\n",
        "\n",
        "plt.figure(figsize=(10, 8))\n",
        "sns.heatmap(correlation_matrix, annot=True, fmt=\".2f\", cmap=\"coolwarm\")\n",
        "plt.title(\"Correlation Matrix\")\n",
        "plt.show()"
      ]
    },
    {
      "cell_type": "code",
      "execution_count": 12,
      "metadata": {
        "id": "6svDuHrLJyPA"
      },
      "outputs": [],
      "source": [
        "# Select relevant features (Close and Volume)\n",
        "data = data[['Close', 'Volume']]\n",
        "data.dropna(inplace=True)"
      ]
    },
    {
      "cell_type": "code",
      "execution_count": 13,
      "metadata": {
        "id": "qjtKK76JJyPA"
      },
      "outputs": [],
      "source": [
        "# Feature Engineering: Create lag features\n",
        "for i in range(1, 6):  # Lag features for the last 5 days\n",
        "    data[f'lag_{i}'] = data['Close'].shift(i)\n",
        "\n",
        "# Calculate Simple Moving Average (SMA)\n",
        "data['SMA'] = data['Close'].rolling(window=10).mean()\n",
        "\n",
        "# Calculate Exponential Moving Average (EMA)\n",
        "data['EMA'] = data['Close'].ewm(span=10, adjust=False).mean()\n",
        "\n",
        "# Calculate Relative Strength Index (RSI)\n",
        "delta = data['Close'].diff(1)\n",
        "gain = delta.where(delta > 0, 0)\n",
        "loss = -delta.where(delta < 0, 0)\n",
        "avg_gain = gain.rolling(window=14, min_periods=1).mean()\n",
        "avg_loss = loss.rolling(window=14, min_periods=1).mean()\n",
        "rs = avg_gain / avg_loss\n",
        "data['RSI'] = 100 - (100 / (1 + rs))\n",
        "\n",
        "data.dropna(inplace=True)  # Remove NaNs after feature creation"
      ]
    },
    {
      "cell_type": "code",
      "execution_count": 14,
      "metadata": {
        "id": "hUIAzHANJyPB"
      },
      "outputs": [],
      "source": [
        "def train_test_split(X, y, test_size=0.2, random_state=None):\n",
        "    X = np.array(X)\n",
        "    y = np.array(y)\n",
        "\n",
        "    # Set random seed for reproducibility\n",
        "    if random_state is not None:\n",
        "        np.random.seed(random_state)\n",
        "\n",
        "    # Shuffle indices\n",
        "    indices = np.arange(len(X))\n",
        "    np.random.shuffle(indices)\n",
        "\n",
        "    # Split indices based on the test size\n",
        "    test_size_count = int(len(X) * test_size)\n",
        "    test_indices = indices[:test_size_count]\n",
        "    train_indices = indices[test_size_count:]\n",
        "\n",
        "    X_train = X[train_indices]\n",
        "    X_test = X[test_indices]\n",
        "    y_train = y[train_indices]\n",
        "    y_test = y[test_indices]\n",
        "\n",
        "    return X_train, X_test, y_train, y_test\n"
      ]
    },
    {
      "cell_type": "code",
      "execution_count": 15,
      "metadata": {
        "id": "UOw0u7jzJyPB"
      },
      "outputs": [],
      "source": [
        "# Split data into features (X) and target variable (y)\n",
        "X = data.drop('Close', axis=1)\n",
        "y = data['Close']\n",
        "\n",
        "# Split into training and testing sets\n",
        "X_train, X_test, y_train, y_test = train_test_split(X, y, test_size=0.2, random_state=42)"
      ]
    },
    {
      "cell_type": "markdown",
      "metadata": {
        "id": "emp7XR8-JyPC"
      },
      "source": [
        "# Linear Regression Model"
      ]
    },
    {
      "cell_type": "code",
      "execution_count": 16,
      "metadata": {
        "id": "-7aOk9WhJyPC"
      },
      "outputs": [],
      "source": [
        "class linear_regression:\n",
        "    def __init__(self, learning_rate=0.0001, epochs=1000):\n",
        "        self.learning_rate = learning_rate\n",
        "        self.epochs = epochs\n",
        "        self.w = None\n",
        "        self.b = None\n",
        "\n",
        "    def fit(self, X, y):\n",
        "        # Check for NaN or infinite values in data\n",
        "        if np.any(np.isnan(X)) or np.any(np.isnan(y)):\n",
        "            print(\"NaN detected in the data.\")\n",
        "            return\n",
        "\n",
        "        n_samples, n_features = X.shape\n",
        "\n",
        "        # Initialize weights and bias with small random values\n",
        "        self.w = np.random.randn(n_features) * 0.01\n",
        "        self.b = 0\n",
        "\n",
        "        # Gradient Descent\n",
        "        for epoch in range(self.epochs):\n",
        "            y_pred = np.dot(X, self.w) + self.b\n",
        "\n",
        "            dw = (1 / n_samples) * np.dot(X.T, (y_pred - y))  # Gradient for weights\n",
        "            db = (1 / n_samples) * np.sum(y_pred - y)  # Gradient for bias\n",
        "\n",
        "            # Clip gradients to avoid exploding gradients\n",
        "            dw = np.clip(dw, -1.0, 1.0)\n",
        "            db = np.clip(db, -1.0, 1.0)\n",
        "\n",
        "            # Update weights and bias\n",
        "            self.w -= self.learning_rate * dw\n",
        "            self.b -= self.learning_rate * db\n",
        "\n",
        "    def predict(self, X):\n",
        "        return np.dot(X, self.w) + self.b  # Linear prediction: y = Xw + b\n"
      ]
    },
    {
      "cell_type": "code",
      "execution_count": 17,
      "metadata": {
        "id": "rxfU-TeRJyPC"
      },
      "outputs": [],
      "source": [
        "def root_mean_squared_error(y_true, y_pred):\n",
        "    squared_errors = (y_true - y_pred) ** 2\n",
        "    return np.sqrt(np.mean(squared_errors))\n",
        "\n",
        "def mean_absolute_error(y_true, y_pred):\n",
        "    absolute_errors = np.abs(y_true - y_pred)\n",
        "    return np.mean(absolute_errors)"
      ]
    },
    {
      "cell_type": "code",
      "execution_count": 18,
      "metadata": {
        "colab": {
          "base_uri": "https://localhost:8080/"
        },
        "id": "Tniv8gI5JyPD",
        "outputId": "f8ebc5f7-8f1d-4f31-994c-609550d2468c"
      },
      "outputs": [
        {
          "name": "stdout",
          "output_type": "stream",
          "text": [
            "Linear Regression RMSE: 9.46, MAE: 7.61\n"
          ]
        }
      ],
      "source": [
        "lr_model = linear_regression(learning_rate=0.0001, epochs=100)\n",
        "lr_model.fit(X_train, y_train)\n",
        "\n",
        "# Make predictions on the test data\n",
        "lr_predictions = lr_model.predict(X_test)\n",
        "\n",
        "# Evaluating the model\n",
        "\n",
        "lr_mse = root_mean_squared_error(y_test, lr_predictions)\n",
        "lr_mae = mean_absolute_error(y_test, lr_predictions)\n",
        "print(f'Linear Regression RMSE: {lr_mse:.2f}, MAE: {lr_mae:.2f}')"
      ]
    },
    {
      "cell_type": "markdown",
      "metadata": {
        "id": "mcEse1aeJyPD"
      },
      "source": [
        "# Autoregressive Integrated Moving Average (ARIMA)"
      ]
    },
    {
      "cell_type": "code",
      "execution_count": 19,
      "metadata": {
        "id": "vojWcG2tJyPE"
      },
      "outputs": [],
      "source": [
        "class ARIMA:\n",
        "    def __init__(self, p, d, q, learning_rate, epochs):\n",
        "        self.p = p\n",
        "        self.d = d\n",
        "        self.q = q\n",
        "        self.learning_rate = learning_rate\n",
        "        self.epochs = epochs\n",
        "        self.phi = None  # AR coefficients\n",
        "        self.theta = None  # MA coefficients\n",
        "        self.bias = None\n",
        "\n",
        "    def difference(self, series, d):\n",
        "        # Apply differencing to make series stationary\n",
        "        for _ in range(d):\n",
        "            series = np.diff(series, n=1)\n",
        "        return series\n",
        "\n",
        "    def inverse_difference(self, original, differenced, d):\n",
        "        # Revert differencing to restore original scale\n",
        "        for _ in range(d):\n",
        "            restored = [original[0]]\n",
        "            for val in differenced:\n",
        "                restored.append(restored[-1] + val)\n",
        "            differenced = restored\n",
        "        return restored\n",
        "\n",
        "    def fit(self, series):\n",
        "        # Train ARIMA model on the given series.\n",
        "        stationary_series = self.difference(series, self.d) # Differencing\n",
        "\n",
        "        self.phi = np.zeros(self.p)\n",
        "        self.theta = np.zeros(self.q)\n",
        "        self.bias = 0\n",
        "\n",
        "        # Gradient Descent to optimize coefficients\n",
        "        errors = []\n",
        "        residuals = np.zeros(len(stationary_series))  # Convert residuals to numpy array for element-wise operations\n",
        "\n",
        "        for epoch in range(self.epochs):\n",
        "            for t in range(max(self.p, self.q), len(stationary_series)):\n",
        "                # AR component\n",
        "                ar_part = np.dot(self.phi, stationary_series[t - self.p:t][::-1])\n",
        "\n",
        "                # MA component\n",
        "                ma_part = np.dot(self.theta, residuals[t - self.q:t][::-1]) if t >= self.q else 0\n",
        "\n",
        "                prediction = self.bias + ar_part + ma_part\n",
        "\n",
        "                # Residual (error)\n",
        "                error = stationary_series[t] - prediction\n",
        "\n",
        "                # Update residuals\n",
        "                residuals[t] = error\n",
        "\n",
        "                # Update coefficients (Gradient Descent)\n",
        "                self.phi += self.learning_rate * error * stationary_series[t - self.p:t][::-1]\n",
        "\n",
        "                if t >= self.q:  # Update MA terms only if sufficient residuals are available\n",
        "                    self.theta += self.learning_rate * error * residuals[t - self.q:t][::-1]\n",
        "                self.bias += self.learning_rate * error\n",
        "\n",
        "            # Store error for monitoring\n",
        "            mse = np.mean(np.square(residuals[max(self.p, self.q):]))\n",
        "            errors.append(mse)\n",
        "\n",
        "            # Stop early if error converges\n",
        "            if epoch > 1 and abs(errors[-1] - errors[-2]) < 1e-6:\n",
        "                break\n",
        "\n",
        "    def forecast(self, series, steps=1):\n",
        "        # Differencing the series\n",
        "        stationary_series = self.difference(series, self.d)\n",
        "        residuals = np.zeros(len(stationary_series))  # Initialize residuals with zeros\n",
        "\n",
        "        # Generate forecasts\n",
        "        predictions = []\n",
        "        for _ in range(steps):\n",
        "            # Autoregression (AR) component\n",
        "            ar_part = np.dot(self.phi, stationary_series[-self.p:][::-1]) if len(stationary_series) >= self.p else 0\n",
        "\n",
        "            # Moving Average (MA) component (only if q > 0)\n",
        "            if self.q > 0:\n",
        "                ma_part = np.dot(self.theta, residuals[-self.q:][::-1]) if len(residuals) >= self.q else 0\n",
        "            else:\n",
        "                ma_part = 0  # No MA component if q=0\n",
        "\n",
        "            # Combine components\n",
        "            prediction = self.bias + ar_part + ma_part\n",
        "\n",
        "            # Append prediction and update arrays\n",
        "            predictions.append(prediction)\n",
        "            stationary_series = np.append(stationary_series, prediction)  # Append prediction to series\n",
        "            residuals = np.append(residuals, 0)  # Append a zero residual (future unknown)\n",
        "\n",
        "        # Revert differencing to restore the original scale\n",
        "        predictions = self.inverse_difference(series, predictions[:steps], self.d)\n",
        "        return predictions"
      ]
    },
    {
      "cell_type": "code",
      "execution_count": 20,
      "metadata": {
        "colab": {
          "base_uri": "https://localhost:8080/",
          "height": 452
        },
        "id": "meO5Ms6HJyPE",
        "outputId": "3131c874-fe62-4dca-bd9a-76a14e2ac5e6"
      },
      "outputs": [
        {
          "data": {
            "image/png": "[encoded data removed]",
            "text/plain": [
              "<Figure size 640x480 with 1 Axes>"
            ]
          },
          "metadata": {},
          "output_type": "display_data"
        }
      ],
      "source": [
        "def test_stationarity(timeseries):\n",
        "    #Determing rolling statistics\n",
        "    rolmean = timeseries.rolling(12).mean()\n",
        "    rolstd = timeseries.rolling(12).std()\n",
        "    #Plot rolling statistics:\n",
        "    plt.plot(timeseries, color='blue',label='Original')\n",
        "    plt.plot(rolmean, color='red', label='Rolling Mean')\n",
        "    plt.plot(rolstd, color='black', label = 'Rolling Std')\n",
        "    plt.legend(loc='best')\n",
        "    plt.title('Rolling Mean and Standard Deviation')\n",
        "    plt.show(block=False)\n",
        "\n",
        "test_stationarity(data['Close'])"
      ]
    },
    {
      "cell_type": "code",
      "execution_count": 21,
      "metadata": {
        "colab": {
          "base_uri": "https://localhost:8080/"
        },
        "id": "1JrUcOnVJyPG",
        "outputId": "110ec8e5-9c34-429f-f749-2eca47f9ea1a"
      },
      "outputs": [
        {
          "name": "stdout",
          "output_type": "stream",
          "text": [
            "ARIMA RMSE: 9.46, MAE: 7.61\n"
          ]
        }
      ],
      "source": [
        "data_series = data['Close'].values\n",
        "train_data = data_series[:int(len(data_series) * 0.8)]\n",
        "test_data = data_series[int(len(data_series) * 0.8):]\n",
        "\n",
        "arima_model = ARIMA(p=5, d=1, q=0, learning_rate=0.001, epochs=100)\n",
        "arima_model.fit(train_data)\n",
        "\n",
        "predictions = arima_model.forecast(train_data, steps=len(test_data))\n",
        "\n",
        "if len(predictions) > len(test_data):\n",
        "    predictions = predictions[:len(test_data)]\n",
        "elif len(predictions) < len(test_data):\n",
        "    test_data = test_data[:len(predictions)]\n",
        "\n",
        "# Evaluate the model\n",
        "mse = root_mean_squared_error(test_data, predictions)\n",
        "mae = mean_absolute_error(test_data, predictions)\n",
        "print(f'ARIMA RMSE: {lr_mse:.2f}, MAE: {lr_mae:.2f}')"
      ]
    },
    {
      "cell_type": "markdown",
      "metadata": {
        "id": "rEp_HmitJyPH"
      },
      "source": [
        "# Microsoft Stock Prediction using ARIMA (Inbuilt)"
      ]
    },
    {
      "cell_type": "code",
      "execution_count": 22,
      "metadata": {
        "colab": {
          "base_uri": "https://localhost:8080/",
          "height": 206
        },
        "id": "dq5DvyosJyPH",
        "outputId": "19a3dd5d-b388-4343-d273-89c47751c7eb"
      },
      "outputs": [
        {
          "data": {
            "application/vnd.google.colaboratory.intrinsic+json": {
              "summary": "{\n  \"name\": \"df\",\n  \"rows\": 7983,\n  \"fields\": [\n    {\n      \"column\": \"Date\",\n      \"properties\": {\n        \"dtype\": \"object\",\n        \"num_unique_values\": 7983,\n        \"samples\": [\n          \"2012-04-05\",\n          \"2015-03-20\",\n          \"2002-07-11\"\n        ],\n        \"semantic_type\": \"\",\n        \"description\": \"\"\n      }\n    },\n    {\n      \"column\": \"Open\",\n      \"properties\": {\n        \"dtype\": \"number\",\n        \"std\": 16.416068106843614,\n        \"min\": 0.0672,\n        \"max\": 84.77,\n        \"num_unique_values\": 3654,\n        \"samples\": [\n          16.605,\n          21.829,\n          2.1718\n        ],\n        \"semantic_type\": \"\",\n        \"description\": \"\"\n      }\n    },\n    {\n      \"column\": \"High\",\n      \"properties\": {\n        \"dtype\": \"number\",\n        \"std\": 16.55260352519817,\n        \"min\": 0.0672,\n        \"max\": 86.2,\n        \"num_unique_values\": 3623,\n        \"samples\": [\n          21.702,\n          26.34,\n          32.797\n        ],\n        \"semantic_type\": \"\",\n        \"description\": \"\"\n      }\n    },\n    {\n      \"column\": \"Low\",\n      \"properties\": {\n        \"dtype\": \"number\",\n        \"std\": 16.277882026186695,\n        \"min\": 0.0672,\n        \"max\": 84.0825,\n        \"num_unique_values\": 3635,\n        \"samples\": [\n          20.102,\n          1.1571,\n          15.939\n        ],\n        \"semantic_type\": \"\",\n        \"description\": \"\"\n      }\n    },\n    {\n      \"column\": \"Close\",\n      \"properties\": {\n        \"dtype\": \"number\",\n        \"std\": 16.42401247014868,\n        \"min\": 0.0672,\n        \"max\": 84.56,\n        \"num_unique_values\": 3669,\n        \"samples\": [\n          1.9203,\n          29.217,\n          43.536\n        ],\n        \"semantic_type\": \"\",\n        \"description\": \"\"\n      }\n    },\n    {\n      \"column\": \"Volume\",\n      \"properties\": {\n        \"dtype\": \"number\",\n        \"std\": 52148888,\n        \"min\": 0,\n        \"max\": 1371330506,\n        \"num_unique_values\": 7833,\n        \"samples\": [\n          101598111,\n          29599280,\n          91633191\n        ],\n        \"semantic_type\": \"\",\n        \"description\": \"\"\n      }\n    },\n    {\n      \"column\": \"OpenInt\",\n      \"properties\": {\n        \"dtype\": \"number\",\n        \"std\": 0,\n        \"min\": 0,\n        \"max\": 0,\n        \"num_unique_values\": 1,\n        \"samples\": [\n          0\n        ],\n        \"semantic_type\": \"\",\n        \"description\": \"\"\n      }\n    }\n  ]\n}",
              "type": "dataframe",
              "variable_name": "df"
            },
            "text/html": [
              "\n",
              "  <div id=\"df-5995888c-5344-4d9c-8097-f469e4deaa6a\" class=\"colab-df-container\">\n",
              "    <div>\n",
              "<style scoped>\n",
              "    .dataframe tbody tr th:only-of-type {\n",
              "        vertical-align: middle;\n",
              "    }\n",
              "\n",
              "    .dataframe tbody tr th {\n",
              "        vertical-align: top;\n",
              "    }\n",
              "\n",
              "    .dataframe thead th {\n",
              "        text-align: right;\n",
              "    }\n",
              "</style>\n",
              "<table border=\"1\" class=\"dataframe\">\n",
              "  <thead>\n",
              "    <tr style=\"text-align: right;\">\n",
              "      <th></th>\n",
              "      <th>Date</th>\n",
              "      <th>Open</th>\n",
              "      <th>High</th>\n",
              "      <th>Low</th>\n",
              "      <th>Close</th>\n",
              "      <th>Volume</th>\n",
              "      <th>OpenInt</th>\n",
              "    </tr>\n",
              "  </thead>\n",
              "  <tbody>\n",
              "    <tr>\n",
              "      <th>0</th>\n",
              "      <td>1986-03-13</td>\n",
              "      <td>0.06720</td>\n",
              "      <td>0.07533</td>\n",
              "      <td>0.06720</td>\n",
              "      <td>0.07533</td>\n",
              "      <td>1371330506</td>\n",
              "      <td>0</td>\n",
              "    </tr>\n",
              "    <tr>\n",
              "      <th>1</th>\n",
              "      <td>1986-03-14</td>\n",
              "      <td>0.07533</td>\n",
              "      <td>0.07533</td>\n",
              "      <td>0.07533</td>\n",
              "      <td>0.07533</td>\n",
              "      <td>409569463</td>\n",
              "      <td>0</td>\n",
              "    </tr>\n",
              "    <tr>\n",
              "      <th>2</th>\n",
              "      <td>1986-03-17</td>\n",
              "      <td>0.07533</td>\n",
              "      <td>0.07533</td>\n",
              "      <td>0.07533</td>\n",
              "      <td>0.07533</td>\n",
              "      <td>176995245</td>\n",
              "      <td>0</td>\n",
              "    </tr>\n",
              "    <tr>\n",
              "      <th>3</th>\n",
              "      <td>1986-03-18</td>\n",
              "      <td>0.07533</td>\n",
              "      <td>0.07533</td>\n",
              "      <td>0.07533</td>\n",
              "      <td>0.07533</td>\n",
              "      <td>90067008</td>\n",
              "      <td>0</td>\n",
              "    </tr>\n",
              "    <tr>\n",
              "      <th>4</th>\n",
              "      <td>1986-03-19</td>\n",
              "      <td>0.07533</td>\n",
              "      <td>0.07533</td>\n",
              "      <td>0.07533</td>\n",
              "      <td>0.07533</td>\n",
              "      <td>63655515</td>\n",
              "      <td>0</td>\n",
              "    </tr>\n",
              "  </tbody>\n",
              "</table>\n",
              "</div>\n",
              "    <div class=\"colab-df-buttons\">\n",
              "\n",
              "  <div class=\"colab-df-container\">\n",
              "    <button class=\"colab-df-convert\" onclick=\"convertToInteractive('df-5995888c-5344-4d9c-8097-f469e4deaa6a')\"\n",
              "            title=\"Convert this dataframe to an interactive table.\"\n",
              "            style=\"display:none;\">\n",
              "\n",
              "  <svg xmlns=\"http://www.w3.org/2000/svg\" height=\"24px\" viewBox=\"0 -960 960 960\">\n",
              "    <path d=\"M120-120v-720h720v720H120Zm60-500h600v-160H180v160Zm220 220h160v-160H400v160Zm0 220h160v-160H400v160ZM180-400h160v-160H180v160Zm440 0h160v-160H620v160ZM180-180h160v-160H180v160Zm440 0h160v-160H620v160Z\"/>\n",
              "  </svg>\n",
              "    </button>\n",
              "\n",
              "  <style>\n",
              "    .colab-df-container {\n",
              "      display:flex;\n",
              "      gap: 12px;\n",
              "    }\n",
              "\n",
              "    .colab-df-convert {\n",
              "      background-color: #E8F0FE;\n",
              "      border: none;\n",
              "      border-radius: 50%;\n",
              "      cursor: pointer;\n",
              "      display: none;\n",
              "      fill: #1967D2;\n",
              "      height: 32px;\n",
              "      padding: 0 0 0 0;\n",
              "      width: 32px;\n",
              "    }\n",
              "\n",
              "    .colab-df-convert:hover {\n",
              "      background-color: #E2EBFA;\n",
              "      box-shadow: 0px 1px 2px rgba(60, 64, 67, 0.3), 0px 1px 3px 1px rgba(60, 64, 67, 0.15);\n",
              "      fill: #174EA6;\n",
              "    }\n",
              "\n",
              "    .colab-df-buttons div {\n",
              "      margin-bottom: 4px;\n",
              "    }\n",
              "\n",
              "    [theme=dark] .colab-df-convert {\n",
              "      background-color: #3B4455;\n",
              "      fill: #D2E3FC;\n",
              "    }\n",
              "\n",
              "    [theme=dark] .colab-df-convert:hover {\n",
              "      background-color: #434B5C;\n",
              "      box-shadow: 0px 1px 3px 1px rgba(0, 0, 0, 0.15);\n",
              "      filter: drop-shadow(0px 1px 2px rgba(0, 0, 0, 0.3));\n",
              "      fill: #FFFFFF;\n",
              "    }\n",
              "  </style>\n",
              "\n",
              "    <script>\n",
              "      const buttonEl =\n",
              "        document.querySelector('#df-5995888c-5344-4d9c-8097-f469e4deaa6a button.colab-df-convert');\n",
              "      buttonEl.style.display =\n",
              "        google.colab.kernel.accessAllowed ? 'block' : 'none';\n",
              "\n",
              "      async function convertToInteractive(key) {\n",
              "        const element = document.querySelector('#df-5995888c-5344-4d9c-8097-f469e4deaa6a');\n",
              "        const dataTable =\n",
              "          await google.colab.kernel.invokeFunction('convertToInteractive',\n",
              "                                                    [key], {});\n",
              "        if (!dataTable) return;\n",
              "\n",
              "        const docLinkHtml = 'Like what you see? Visit the ' +\n",
              "          '<a target=\"_blank\" href=https://colab.research.google.com/notebooks/data_table.ipynb>data table notebook</a>'\n",
              "          + ' to learn more about interactive tables.';\n",
              "        element.innerHTML = '';\n",
              "        dataTable['output_type'] = 'display_data';\n",
              "        await google.colab.output.renderOutput(dataTable, element);\n",
              "        const docLink = document.createElement('div');\n",
              "        docLink.innerHTML = docLinkHtml;\n",
              "        element.appendChild(docLink);\n",
              "      }\n",
              "    </script>\n",
              "  </div>\n",
              "\n",
              "\n",
              "<div id=\"df-51d6582e-ce19-441c-a4b1-0836dd1bdfee\">\n",
              "  <button class=\"colab-df-quickchart\" onclick=\"quickchart('df-51d6582e-ce19-441c-a4b1-0836dd1bdfee')\"\n",
              "            title=\"Suggest charts\"\n",
              "            style=\"display:none;\">\n",
              "\n",
              "<svg xmlns=\"http://www.w3.org/2000/svg\" height=\"24px\"viewBox=\"0 0 24 24\"\n",
              "     width=\"24px\">\n",
              "    <g>\n",
              "        <path d=\"M19 3H5c-1.1 0-2 .9-2 2v14c0 1.1.9 2 2 2h14c1.1 0 2-.9 2-2V5c0-1.1-.9-2-2-2zM9 17H7v-7h2v7zm4 0h-2V7h2v10zm4 0h-2v-4h2v4z\"/>\n",
              "    </g>\n",
              "</svg>\n",
              "  </button>\n",
              "\n",
              "<style>\n",
              "  .colab-df-quickchart {\n",
              "      --bg-color: #E8F0FE;\n",
              "      --fill-color: #1967D2;\n",
              "      --hover-bg-color: #E2EBFA;\n",
              "      --hover-fill-color: #174EA6;\n",
              "      --disabled-fill-color: #AAA;\n",
              "      --disabled-bg-color: #DDD;\n",
              "  }\n",
              "\n",
              "  [theme=dark] .colab-df-quickchart {\n",
              "      --bg-color: #3B4455;\n",
              "      --fill-color: #D2E3FC;\n",
              "      --hover-bg-color: #434B5C;\n",
              "      --hover-fill-color: #FFFFFF;\n",
              "      --disabled-bg-color: #3B4455;\n",
              "      --disabled-fill-color: #666;\n",
              "  }\n",
              "\n",
              "  .colab-df-quickchart {\n",
              "    background-color: var(--bg-color);\n",
              "    border: none;\n",
              "    border-radius: 50%;\n",
              "    cursor: pointer;\n",
              "    display: none;\n",
              "    fill: var(--fill-color);\n",
              "    height: 32px;\n",
              "    padding: 0;\n",
              "    width: 32px;\n",
              "  }\n",
              "\n",
              "  .colab-df-quickchart:hover {\n",
              "    background-color: var(--hover-bg-color);\n",
              "    box-shadow: 0 1px 2px rgba(60, 64, 67, 0.3), 0 1px 3px 1px rgba(60, 64, 67, 0.15);\n",
              "    fill: var(--button-hover-fill-color);\n",
              "  }\n",
              "\n",
              "  .colab-df-quickchart-complete:disabled,\n",
              "  .colab-df-quickchart-complete:disabled:hover {\n",
              "    background-color: var(--disabled-bg-color);\n",
              "    fill: var(--disabled-fill-color);\n",
              "    box-shadow: none;\n",
              "  }\n",
              "\n",
              "  .colab-df-spinner {\n",
              "    border: 2px solid var(--fill-color);\n",
              "    border-color: transparent;\n",
              "    border-bottom-color: var(--fill-color);\n",
              "    animation:\n",
              "      spin 1s steps(1) infinite;\n",
              "  }\n",
              "\n",
              "  @keyframes spin {\n",
              "    0% {\n",
              "      border-color: transparent;\n",
              "      border-bottom-color: var(--fill-color);\n",
              "      border-left-color: var(--fill-color);\n",
              "    }\n",
              "    20% {\n",
              "      border-color: transparent;\n",
              "      border-left-color: var(--fill-color);\n",
              "      border-top-color: var(--fill-color);\n",
              "    }\n",
              "    30% {\n",
              "      border-color: transparent;\n",
              "      border-left-color: var(--fill-color);\n",
              "      border-top-color: var(--fill-color);\n",
              "      border-right-color: var(--fill-color);\n",
              "    }\n",
              "    40% {\n",
              "      border-color: transparent;\n",
              "      border-right-color: var(--fill-color);\n",
              "      border-top-color: var(--fill-color);\n",
              "    }\n",
              "    60% {\n",
              "      border-color: transparent;\n",
              "      border-right-color: var(--fill-color);\n",
              "    }\n",
              "    80% {\n",
              "      border-color: transparent;\n",
              "      border-right-color: var(--fill-color);\n",
              "      border-bottom-color: var(--fill-color);\n",
              "    }\n",
              "    90% {\n",
              "      border-color: transparent;\n",
              "      border-bottom-color: var(--fill-color);\n",
              "    }\n",
              "  }\n",
              "</style>\n",
              "\n",
              "  <script>\n",
              "    async function quickchart(key) {\n",
              "      const quickchartButtonEl =\n",
              "        document.querySelector('#' + key + ' button');\n",
              "      quickchartButtonEl.disabled = true;  // To prevent multiple clicks.\n",
              "      quickchartButtonEl.classList.add('colab-df-spinner');\n",
              "      try {\n",
              "        const charts = await google.colab.kernel.invokeFunction(\n",
              "            'suggestCharts', [key], {});\n",
              "      } catch (error) {\n",
              "        console.error('Error during call to suggestCharts:', error);\n",
              "      }\n",
              "      quickchartButtonEl.classList.remove('colab-df-spinner');\n",
              "      quickchartButtonEl.classList.add('colab-df-quickchart-complete');\n",
              "    }\n",
              "    (() => {\n",
              "      let quickchartButtonEl =\n",
              "        document.querySelector('#df-51d6582e-ce19-441c-a4b1-0836dd1bdfee button');\n",
              "      quickchartButtonEl.style.display =\n",
              "        google.colab.kernel.accessAllowed ? 'block' : 'none';\n",
              "    })();\n",
              "  </script>\n",
              "</div>\n",
              "\n",
              "    </div>\n",
              "  </div>\n"
            ],
            "text/plain": [
              "         Date     Open     High      Low    Close      Volume  OpenInt\n",
              "0  1986-03-13  0.06720  0.07533  0.06720  0.07533  1371330506        0\n",
              "1  1986-03-14  0.07533  0.07533  0.07533  0.07533   409569463        0\n",
              "2  1986-03-17  0.07533  0.07533  0.07533  0.07533   176995245        0\n",
              "3  1986-03-18  0.07533  0.07533  0.07533  0.07533    90067008        0\n",
              "4  1986-03-19  0.07533  0.07533  0.07533  0.07533    63655515        0"
            ]
          },
          "execution_count": 22,
          "metadata": {},
          "output_type": "execute_result"
        }
      ],
      "source": [
        "df = pd.read_csv(\"/home/anjan/Documents/ML/Proj/Data/Stocks_csv/msft.us.csv\")\n",
        "df.head()"
      ]
    },
    {
      "cell_type": "code",
      "execution_count": 23,
      "metadata": {
        "id": "9LJcdgzyJyPI"
      },
      "outputs": [],
      "source": [
        "train_data, test_data = df[0:int(len(df)*0.8)], df[int(len(df)*0.8):]"
      ]
    },
    {
      "cell_type": "code",
      "execution_count": 24,
      "metadata": {
        "id": "HltSr-HFJyPI"
      },
      "outputs": [],
      "source": [
        "def smape_kun(y_true, y_pred):\n",
        "    return np.mean((np.abs(y_pred - y_true) * 200/ (np.abs(y_pred) + np.abs(y_true))))"
      ]
    },
    {
      "cell_type": "code",
      "execution_count": 25,
      "metadata": {
        "colab": {
          "base_uri": "https://localhost:8080/"
        },
        "id": "uWEAzOC5JyPJ",
        "outputId": "71392ae0-b0f0-41f5-a1ff-ba3354af7b80"
      },
      "outputs": [
        {
          "name": "stdout",
          "output_type": "stream",
          "text": [
            "Testing Mean Squared Error: 0.393\n",
            "Symmetric Mean Absolute Percentage Error (SMAPE): 1.565\n"
          ]
        }
      ],
      "source": [
        "from statsmodels.tsa.arima.model import ARIMA\n",
        "\n",
        "train_data, test_data = data.iloc[0:int(len(data) * 0.8)], data.iloc[int(len(data) * 0.8):]\n",
        "\n",
        "train_ar = train_data['Close'].values\n",
        "test_ar = test_data['Close'].values\n",
        "\n",
        "# Initialize history with training data\n",
        "history = list(train_ar)\n",
        "predictions = []\n",
        "\n",
        "# Iteratively train and forecast\n",
        "for t in range(len(test_ar)):\n",
        "    model = ARIMA(history, order=(5, 1, 0))  # ARIMA order (p, d, q)\n",
        "    model_fit = model.fit()\n",
        "    output = model_fit.forecast(steps=1)  # Forecast one step ahead\n",
        "    yhat = output[0]  # Extract prediction\n",
        "    predictions.append(yhat)\n",
        "    obs = test_ar[t]  # Actual observation\n",
        "    history.append(obs)  # Add observation to history for next iteration\n",
        "\n",
        "# Calculate evaluation metrics\n",
        "mse = root_mean_squared_error(test_ar, predictions)\n",
        "smape = smape_kun(test_ar, predictions)\n",
        "\n",
        "print(f'Testing Mean Squared Error: {mse:.3f}')\n",
        "print(f'Symmetric Mean Absolute Percentage Error (SMAPE): {smape:.3f}')\n"
      ]
    },
    {
      "cell_type": "markdown",
      "metadata": {
        "id": "zy9yyi9aJyPJ"
      },
      "source": [
        "# Long Short-Term Memory (LSTM) Model"
      ]
    },
    {
      "cell_type": "code",
      "execution_count": 26,
      "metadata": {
        "id": "fOef_84DJyPK"
      },
      "outputs": [],
      "source": [
        "# Prepare data for LSTM model\n",
        "scaler = MinMaxScaler(feature_range=(0, 1))\n",
        "scaled_data = scaler.fit_transform(data[['Close']])\n",
        "\n",
        "# Create datasets for LSTM model\n",
        "def create_lstm_dataset(data, time_step=1):\n",
        "    X, Y = [], []\n",
        "    for i in range(len(data) - time_step - 1):\n",
        "        a = data[i:(i + time_step), 0]\n",
        "        X.append(a)\n",
        "        Y.append(data[i + time_step, 0])\n",
        "    return np.array(X), np.array(Y)"
      ]
    },
    {
      "cell_type": "code",
      "execution_count": 27,
      "metadata": {
        "colab": {
          "base_uri": "https://localhost:8080/"
        },
        "id": "3fuPZWHbJyPL",
        "outputId": "7686db96-330b-4998-bb27-fff3377ff9f6"
      },
      "outputs": [
        {
          "name": "stdout",
          "output_type": "stream",
          "text": [
            "Epoch 1/100\n",
            "\u001b[1m95/95\u001b[0m \u001b[32m━━━━━━━━━━━━━━━━━━━━\u001b[0m\u001b[37m\u001b[0m \u001b[1m10s\u001b[0m 63ms/step - loss: 0.0455\n",
            "Epoch 2/100\n",
            "\u001b[1m95/95\u001b[0m \u001b[32m━━━━━━━━━━━━━━━━━━━━\u001b[0m\u001b[37m\u001b[0m \u001b[1m11s\u001b[0m 74ms/step - loss: 0.0028\n",
            "Epoch 3/100\n",
            "\u001b[1m95/95\u001b[0m \u001b[32m━━━━━━━━━━━━━━━━━━━━\u001b[0m\u001b[37m\u001b[0m \u001b[1m5s\u001b[0m 55ms/step - loss: 0.0023\n",
            "Epoch 4/100\n",
            "\u001b[1m95/95\u001b[0m \u001b[32m━━━━━━━━━━━━━━━━━━━━\u001b[0m\u001b[37m\u001b[0m \u001b[1m11s\u001b[0m 58ms/step - loss: 0.0023\n",
            "Epoch 5/100\n",
            "\u001b[1m95/95\u001b[0m \u001b[32m━━━━━━━━━━━━━━━━━━━━\u001b[0m\u001b[37m\u001b[0m \u001b[1m12s\u001b[0m 74ms/step - loss: 0.0021\n",
            "Epoch 6/100\n",
            "\u001b[1m95/95\u001b[0m \u001b[32m━━━━━━━━━━━━━━━━━━━━\u001b[0m\u001b[37m\u001b[0m \u001b[1m7s\u001b[0m 70ms/step - loss: 0.0019\n",
            "Epoch 7/100\n",
            "\u001b[1m95/95\u001b[0m \u001b[32m━━━━━━━━━━━━━━━━━━━━\u001b[0m\u001b[37m\u001b[0m \u001b[1m8s\u001b[0m 88ms/step - loss: 0.0016\n",
            "Epoch 8/100\n",
            "\u001b[1m95/95\u001b[0m \u001b[32m━━━━━━━━━━━━━━━━━━━━\u001b[0m\u001b[37m\u001b[0m \u001b[1m5s\u001b[0m 57ms/step - loss: 0.0018\n",
            "Epoch 9/100\n",
            "\u001b[1m95/95\u001b[0m \u001b[32m━━━━━━━━━━━━━━━━━━━━\u001b[0m\u001b[37m\u001b[0m \u001b[1m10s\u001b[0m 56ms/step - loss: 0.0017\n",
            "Epoch 10/100\n",
            "\u001b[1m95/95\u001b[0m \u001b[32m━━━━━━━━━━━━━━━━━━━━\u001b[0m\u001b[37m\u001b[0m \u001b[1m6s\u001b[0m 61ms/step - loss: 0.0016\n",
            "Epoch 11/100\n",
            "\u001b[1m95/95\u001b[0m \u001b[32m━━━━━━━━━━━━━━━━━━━━\u001b[0m\u001b[37m\u001b[0m \u001b[1m10s\u001b[0m 56ms/step - loss: 0.0014\n",
            "Epoch 12/100\n",
            "\u001b[1m95/95\u001b[0m \u001b[32m━━━━━━━━━━━━━━━━━━━━\u001b[0m\u001b[37m\u001b[0m \u001b[1m7s\u001b[0m 73ms/step - loss: 0.0011\n",
            "Epoch 13/100\n",
            "\u001b[1m95/95\u001b[0m \u001b[32m━━━━━━━━━━━━━━━━━━━━\u001b[0m\u001b[37m\u001b[0m \u001b[1m9s\u001b[0m 57ms/step - loss: 0.0012\n",
            "Epoch 14/100\n",
            "\u001b[1m95/95\u001b[0m \u001b[32m━━━━━━━━━━━━━━━━━━━━\u001b[0m\u001b[37m\u001b[0m \u001b[1m10s\u001b[0m 57ms/step - loss: 0.0012\n",
            "Epoch 15/100\n",
            "\u001b[1m95/95\u001b[0m \u001b[32m━━━━━━━━━━━━━━━━━━━━\u001b[0m\u001b[37m\u001b[0m \u001b[1m7s\u001b[0m 72ms/step - loss: 0.0012\n",
            "Epoch 16/100\n",
            "\u001b[1m95/95\u001b[0m \u001b[32m━━━━━━━━━━━━━━━━━━━━\u001b[0m\u001b[37m\u001b[0m \u001b[1m5s\u001b[0m 56ms/step - loss: 0.0012\n",
            "Epoch 17/100\n",
            "\u001b[1m95/95\u001b[0m \u001b[32m━━━━━━━━━━━━━━━━━━━━\u001b[0m\u001b[37m\u001b[0m \u001b[1m6s\u001b[0m 63ms/step - loss: 0.0010\n",
            "Epoch 18/100\n",
            "\u001b[1m95/95\u001b[0m \u001b[32m━━━━━━━━━━━━━━━━━━━━\u001b[0m\u001b[37m\u001b[0m \u001b[1m10s\u001b[0m 61ms/step - loss: 9.7613e-04\n",
            "Epoch 19/100\n",
            "\u001b[1m95/95\u001b[0m \u001b[32m━━━━━━━━━━━━━━━━━━━━\u001b[0m\u001b[37m\u001b[0m \u001b[1m10s\u001b[0m 56ms/step - loss: 0.0010   \n",
            "Epoch 20/100\n",
            "\u001b[1m95/95\u001b[0m \u001b[32m━━━━━━━━━━━━━━━━━━━━\u001b[0m\u001b[37m\u001b[0m \u001b[1m10s\u001b[0m 57ms/step - loss: 9.7439e-04\n",
            "Epoch 21/100\n",
            "\u001b[1m95/95\u001b[0m \u001b[32m━━━━━━━━━━━━━━━━━━━━\u001b[0m\u001b[37m\u001b[0m \u001b[1m12s\u001b[0m 73ms/step - loss: 9.1644e-04\n",
            "Epoch 22/100\n",
            "\u001b[1m95/95\u001b[0m \u001b[32m━━━━━━━━━━━━━━━━━━━━\u001b[0m\u001b[37m\u001b[0m \u001b[1m9s\u001b[0m 65ms/step - loss: 9.2153e-04\n",
            "Epoch 23/100\n",
            "\u001b[1m95/95\u001b[0m \u001b[32m━━━━━━━━━━━━━━━━━━━━\u001b[0m\u001b[37m\u001b[0m \u001b[1m9s\u001b[0m 56ms/step - loss: 0.0011\n",
            "Epoch 24/100\n",
            "\u001b[1m95/95\u001b[0m \u001b[32m━━━━━━━━━━━━━━━━━━━━\u001b[0m\u001b[37m\u001b[0m \u001b[1m10s\u001b[0m 56ms/step - loss: 8.7855e-04\n",
            "Epoch 25/100\n",
            "\u001b[1m95/95\u001b[0m \u001b[32m━━━━━━━━━━━━━━━━━━━━\u001b[0m\u001b[37m\u001b[0m \u001b[1m10s\u001b[0m 56ms/step - loss: 8.4218e-04\n",
            "Epoch 26/100\n",
            "\u001b[1m95/95\u001b[0m \u001b[32m━━━━━━━━━━━━━━━━━━━━\u001b[0m\u001b[37m\u001b[0m \u001b[1m5s\u001b[0m 57ms/step - loss: 7.5752e-04\n",
            "Epoch 27/100\n",
            "\u001b[1m95/95\u001b[0m \u001b[32m━━━━━━━━━━━━━━━━━━━━\u001b[0m\u001b[37m\u001b[0m \u001b[1m10s\u001b[0m 55ms/step - loss: 8.3975e-04\n",
            "Epoch 28/100\n",
            "\u001b[1m95/95\u001b[0m \u001b[32m━━━━━━━━━━━━━━━━━━━━\u001b[0m\u001b[37m\u001b[0m \u001b[1m10s\u001b[0m 55ms/step - loss: 8.0940e-04\n",
            "Epoch 29/100\n",
            "\u001b[1m95/95\u001b[0m \u001b[32m━━━━━━━━━━━━━━━━━━━━\u001b[0m\u001b[37m\u001b[0m \u001b[1m10s\u001b[0m 57ms/step - loss: 8.5724e-04\n",
            "Epoch 30/100\n",
            "\u001b[1m95/95\u001b[0m \u001b[32m━━━━━━━━━━━━━━━━━━━━\u001b[0m\u001b[37m\u001b[0m \u001b[1m12s\u001b[0m 72ms/step - loss: 7.4318e-04\n",
            "Epoch 31/100\n",
            "\u001b[1m95/95\u001b[0m \u001b[32m━━━━━━━━━━━━━━━━━━━━\u001b[0m\u001b[37m\u001b[0m \u001b[1m5s\u001b[0m 55ms/step - loss: 7.8840e-04\n",
            "Epoch 32/100\n",
            "\u001b[1m95/95\u001b[0m \u001b[32m━━━━━━━━━━━━━━━━━━━━\u001b[0m\u001b[37m\u001b[0m \u001b[1m7s\u001b[0m 72ms/step - loss: 7.2862e-04\n",
            "Epoch 33/100\n",
            "\u001b[1m95/95\u001b[0m \u001b[32m━━━━━━━━━━━━━━━━━━━━\u001b[0m\u001b[37m\u001b[0m \u001b[1m5s\u001b[0m 55ms/step - loss: 6.8172e-04\n",
            "Epoch 34/100\n",
            "\u001b[1m95/95\u001b[0m \u001b[32m━━━━━━━━━━━━━━━━━━━━\u001b[0m\u001b[37m\u001b[0m \u001b[1m11s\u001b[0m 66ms/step - loss: 7.2096e-04\n",
            "Epoch 35/100\n",
            "\u001b[1m95/95\u001b[0m \u001b[32m━━━━━━━━━━━━━━━━━━━━\u001b[0m\u001b[37m\u001b[0m \u001b[1m11s\u001b[0m 73ms/step - loss: 7.2898e-04\n",
            "Epoch 36/100\n",
            "\u001b[1m95/95\u001b[0m \u001b[32m━━━━━━━━━━━━━━━━━━━━\u001b[0m\u001b[37m\u001b[0m \u001b[1m9s\u001b[0m 56ms/step - loss: 7.8510e-04\n",
            "Epoch 37/100\n",
            "\u001b[1m95/95\u001b[0m \u001b[32m━━━━━━━━━━━━━━━━━━━━\u001b[0m\u001b[37m\u001b[0m \u001b[1m10s\u001b[0m 56ms/step - loss: 7.0658e-04\n",
            "Epoch 38/100\n",
            "\u001b[1m95/95\u001b[0m \u001b[32m━━━━━━━━━━━━━━━━━━━━\u001b[0m\u001b[37m\u001b[0m \u001b[1m10s\u001b[0m 59ms/step - loss: 6.4549e-04\n",
            "Epoch 39/100\n",
            "\u001b[1m95/95\u001b[0m \u001b[32m━━━━━━━━━━━━━━━━━━━━\u001b[0m\u001b[37m\u001b[0m \u001b[1m11s\u001b[0m 71ms/step - loss: 6.6296e-04\n",
            "Epoch 40/100\n",
            "\u001b[1m95/95\u001b[0m \u001b[32m━━━━━━━━━━━━━━━━━━━━\u001b[0m\u001b[37m\u001b[0m \u001b[1m11s\u001b[0m 77ms/step - loss: 6.6958e-04\n",
            "Epoch 41/100\n",
            "\u001b[1m95/95\u001b[0m \u001b[32m━━━━━━━━━━━━━━━━━━━━\u001b[0m\u001b[37m\u001b[0m \u001b[1m9s\u001b[0m 60ms/step - loss: 6.7578e-04\n",
            "Epoch 42/100\n",
            "\u001b[1m95/95\u001b[0m \u001b[32m━━━━━━━━━━━━━━━━━━━━\u001b[0m\u001b[37m\u001b[0m \u001b[1m10s\u001b[0m 59ms/step - loss: 6.5323e-04\n",
            "Epoch 43/100\n",
            "\u001b[1m95/95\u001b[0m \u001b[32m━━━━━━━━━━━━━━━━━━━━\u001b[0m\u001b[37m\u001b[0m \u001b[1m11s\u001b[0m 62ms/step - loss: 6.2284e-04\n",
            "Epoch 44/100\n",
            "\u001b[1m95/95\u001b[0m \u001b[32m━━━━━━━━━━━━━━━━━━━━\u001b[0m\u001b[37m\u001b[0m \u001b[1m11s\u001b[0m 75ms/step - loss: 6.3836e-04\n",
            "Epoch 45/100\n",
            "\u001b[1m95/95\u001b[0m \u001b[32m━━━━━━━━━━━━━━━━━━━━\u001b[0m\u001b[37m\u001b[0m \u001b[1m9s\u001b[0m 60ms/step - loss: 5.8113e-04\n",
            "Epoch 46/100\n",
            "\u001b[1m95/95\u001b[0m \u001b[32m━━━━━━━━━━━━━━━━━━━━\u001b[0m\u001b[37m\u001b[0m \u001b[1m7s\u001b[0m 71ms/step - loss: 6.3229e-04\n",
            "Epoch 47/100\n",
            "\u001b[1m95/95\u001b[0m \u001b[32m━━━━━━━━━━━━━━━━━━━━\u001b[0m\u001b[37m\u001b[0m \u001b[1m11s\u001b[0m 74ms/step - loss: 5.9689e-04\n",
            "Epoch 48/100\n",
            "\u001b[1m95/95\u001b[0m \u001b[32m━━━━━━━━━━━━━━━━━━━━\u001b[0m\u001b[37m\u001b[0m \u001b[1m8s\u001b[0m 56ms/step - loss: 6.4204e-04\n",
            "Epoch 49/100\n",
            "\u001b[1m95/95\u001b[0m \u001b[32m━━━━━━━━━━━━━━━━━━━━\u001b[0m\u001b[37m\u001b[0m \u001b[1m10s\u001b[0m 56ms/step - loss: 5.5816e-04\n",
            "Epoch 50/100\n",
            "\u001b[1m95/95\u001b[0m \u001b[32m━━━━━━━━━━━━━━━━━━━━\u001b[0m\u001b[37m\u001b[0m \u001b[1m7s\u001b[0m 72ms/step - loss: 5.6314e-04\n",
            "Epoch 51/100\n",
            "\u001b[1m95/95\u001b[0m \u001b[32m━━━━━━━━━━━━━━━━━━━━\u001b[0m\u001b[37m\u001b[0m \u001b[1m6s\u001b[0m 59ms/step - loss: 5.3740e-04\n",
            "Epoch 52/100\n",
            "\u001b[1m95/95\u001b[0m \u001b[32m━━━━━━━━━━━━━━━━━━━━\u001b[0m\u001b[37m\u001b[0m \u001b[1m12s\u001b[0m 74ms/step - loss: 6.4990e-04\n",
            "Epoch 53/100\n",
            "\u001b[1m95/95\u001b[0m \u001b[32m━━━━━━━━━━━━━━━━━━━━\u001b[0m\u001b[37m\u001b[0m \u001b[1m9s\u001b[0m 62ms/step - loss: 5.5433e-04\n",
            "Epoch 54/100\n",
            "\u001b[1m95/95\u001b[0m \u001b[32m━━━━━━━━━━━━━━━━━━━━\u001b[0m\u001b[37m\u001b[0m \u001b[1m7s\u001b[0m 69ms/step - loss: 6.1713e-04\n",
            "Epoch 55/100\n",
            "\u001b[1m95/95\u001b[0m \u001b[32m━━━━━━━━━━━━━━━━━━━━\u001b[0m\u001b[37m\u001b[0m \u001b[1m5s\u001b[0m 57ms/step - loss: 5.9886e-04\n",
            "Epoch 56/100\n",
            "\u001b[1m95/95\u001b[0m \u001b[32m━━━━━━━━━━━━━━━━━━━━\u001b[0m\u001b[37m\u001b[0m \u001b[1m10s\u001b[0m 57ms/step - loss: 5.9009e-04\n",
            "Epoch 57/100\n",
            "\u001b[1m95/95\u001b[0m \u001b[32m━━━━━━━━━━━━━━━━━━━━\u001b[0m\u001b[37m\u001b[0m \u001b[1m7s\u001b[0m 75ms/step - loss: 5.3101e-04\n",
            "Epoch 58/100\n",
            "\u001b[1m95/95\u001b[0m \u001b[32m━━━━━━━━━━━━━━━━━━━━\u001b[0m\u001b[37m\u001b[0m \u001b[1m5s\u001b[0m 57ms/step - loss: 5.0964e-04\n",
            "Epoch 59/100\n",
            "\u001b[1m95/95\u001b[0m \u001b[32m━━━━━━━━━━━━━━━━━━━━\u001b[0m\u001b[37m\u001b[0m \u001b[1m12s\u001b[0m 70ms/step - loss: 6.2303e-04\n",
            "Epoch 60/100\n",
            "\u001b[1m95/95\u001b[0m \u001b[32m━━━━━━━━━━━━━━━━━━━━\u001b[0m\u001b[37m\u001b[0m \u001b[1m5s\u001b[0m 57ms/step - loss: 4.9074e-04\n",
            "Epoch 61/100\n",
            "\u001b[1m95/95\u001b[0m \u001b[32m━━━━━━━━━━━━━━━━━━━━\u001b[0m\u001b[37m\u001b[0m \u001b[1m10s\u001b[0m 57ms/step - loss: 5.1797e-04\n",
            "Epoch 62/100\n",
            "\u001b[1m95/95\u001b[0m \u001b[32m━━━━━━━━━━━━━━━━━━━━\u001b[0m\u001b[37m\u001b[0m \u001b[1m10s\u001b[0m 57ms/step - loss: 5.2205e-04\n",
            "Epoch 63/100\n",
            "\u001b[1m95/95\u001b[0m \u001b[32m━━━━━━━━━━━━━━━━━━━━\u001b[0m\u001b[37m\u001b[0m \u001b[1m12s\u001b[0m 71ms/step - loss: 5.0718e-04\n",
            "Epoch 64/100\n",
            "\u001b[1m95/95\u001b[0m \u001b[32m━━━━━━━━━━━━━━━━━━━━\u001b[0m\u001b[37m\u001b[0m \u001b[1m10s\u001b[0m 71ms/step - loss: 4.9364e-04\n",
            "Epoch 65/100\n",
            "\u001b[1m95/95\u001b[0m \u001b[32m━━━━━━━━━━━━━━━━━━━━\u001b[0m\u001b[37m\u001b[0m \u001b[1m9s\u001b[0m 59ms/step - loss: 5.3386e-04\n",
            "Epoch 66/100\n",
            "\u001b[1m95/95\u001b[0m \u001b[32m━━━━━━━━━━━━━━━━━━━━\u001b[0m\u001b[37m\u001b[0m \u001b[1m10s\u001b[0m 57ms/step - loss: 4.8029e-04\n",
            "Epoch 67/100\n",
            "\u001b[1m95/95\u001b[0m \u001b[32m━━━━━━━━━━━━━━━━━━━━\u001b[0m\u001b[37m\u001b[0m \u001b[1m11s\u001b[0m 59ms/step - loss: 5.3225e-04\n",
            "Epoch 68/100\n",
            "\u001b[1m95/95\u001b[0m \u001b[32m━━━━━━━━━━━━━━━━━━━━\u001b[0m\u001b[37m\u001b[0m \u001b[1m12s\u001b[0m 74ms/step - loss: 4.9642e-04\n",
            "Epoch 69/100\n",
            "\u001b[1m95/95\u001b[0m \u001b[32m━━━━━━━━━━━━━━━━━━━━\u001b[0m\u001b[37m\u001b[0m \u001b[1m10s\u001b[0m 67ms/step - loss: 4.5968e-04\n",
            "Epoch 70/100\n",
            "\u001b[1m95/95\u001b[0m \u001b[32m━━━━━━━━━━━━━━━━━━━━\u001b[0m\u001b[37m\u001b[0m \u001b[1m6s\u001b[0m 63ms/step - loss: 4.4079e-04\n",
            "Epoch 71/100\n",
            "\u001b[1m95/95\u001b[0m \u001b[32m━━━━━━━━━━━━━━━━━━━━\u001b[0m\u001b[37m\u001b[0m \u001b[1m12s\u001b[0m 81ms/step - loss: 4.7619e-04\n",
            "Epoch 72/100\n",
            "\u001b[1m95/95\u001b[0m \u001b[32m━━━━━━━━━━━━━━━━━━━━\u001b[0m\u001b[37m\u001b[0m \u001b[1m9s\u001b[0m 65ms/step - loss: 4.3470e-04\n",
            "Epoch 73/100\n",
            "\u001b[1m95/95\u001b[0m \u001b[32m━━━━━━━━━━━━━━━━━━━━\u001b[0m\u001b[37m\u001b[0m \u001b[1m10s\u001b[0m 63ms/step - loss: 4.9718e-04\n",
            "Epoch 74/100\n",
            "\u001b[1m95/95\u001b[0m \u001b[32m━━━━━━━━━━━━━━━━━━━━\u001b[0m\u001b[37m\u001b[0m \u001b[1m10s\u001b[0m 103ms/step - loss: 4.8733e-04\n",
            "Epoch 75/100\n",
            "\u001b[1m95/95\u001b[0m \u001b[32m━━━━━━━━━━━━━━━━━━━━\u001b[0m\u001b[37m\u001b[0m \u001b[1m6s\u001b[0m 64ms/step - loss: 4.7899e-04\n",
            "Epoch 76/100\n",
            "\u001b[1m95/95\u001b[0m \u001b[32m━━━━━━━━━━━━━━━━━━━━\u001b[0m\u001b[37m\u001b[0m \u001b[1m10s\u001b[0m 59ms/step - loss: 3.8272e-04\n",
            "Epoch 77/100\n",
            "\u001b[1m95/95\u001b[0m \u001b[32m━━━━━━━━━━━━━━━━━━━━\u001b[0m\u001b[37m\u001b[0m \u001b[1m11s\u001b[0m 72ms/step - loss: 4.5919e-04\n",
            "Epoch 78/100\n",
            "\u001b[1m95/95\u001b[0m \u001b[32m━━━━━━━━━━━━━━━━━━━━\u001b[0m\u001b[37m\u001b[0m \u001b[1m10s\u001b[0m 70ms/step - loss: 4.5386e-04\n",
            "Epoch 79/100\n",
            "\u001b[1m95/95\u001b[0m \u001b[32m━━━━━━━━━━━━━━━━━━━━\u001b[0m\u001b[37m\u001b[0m \u001b[1m6s\u001b[0m 64ms/step - loss: 3.8471e-04\n",
            "Epoch 80/100\n",
            "\u001b[1m95/95\u001b[0m \u001b[32m━━━━━━━━━━━━━━━━━━━━\u001b[0m\u001b[37m\u001b[0m \u001b[1m7s\u001b[0m 70ms/step - loss: 4.0698e-04\n",
            "Epoch 81/100\n",
            "\u001b[1m95/95\u001b[0m \u001b[32m━━━━━━━━━━━━━━━━━━━━\u001b[0m\u001b[37m\u001b[0m \u001b[1m6s\u001b[0m 68ms/step - loss: 4.1573e-04\n",
            "Epoch 82/100\n",
            "\u001b[1m95/95\u001b[0m \u001b[32m━━━━━━━━━━━━━━━━━━━━\u001b[0m\u001b[37m\u001b[0m \u001b[1m5s\u001b[0m 57ms/step - loss: 4.7588e-04\n",
            "Epoch 83/100\n",
            "\u001b[1m95/95\u001b[0m \u001b[32m━━━━━━━━━━━━━━━━━━━━\u001b[0m\u001b[37m\u001b[0m \u001b[1m7s\u001b[0m 74ms/step - loss: 4.3676e-04\n",
            "Epoch 84/100\n",
            "\u001b[1m95/95\u001b[0m \u001b[32m━━━━━━━━━━━━━━━━━━━━\u001b[0m\u001b[37m\u001b[0m \u001b[1m10s\u001b[0m 66ms/step - loss: 3.9905e-04\n",
            "Epoch 85/100\n",
            "\u001b[1m95/95\u001b[0m \u001b[32m━━━━━━━━━━━━━━━━━━━━\u001b[0m\u001b[37m\u001b[0m \u001b[1m9s\u001b[0m 58ms/step - loss: 4.1799e-04\n",
            "Epoch 86/100\n",
            "\u001b[1m95/95\u001b[0m \u001b[32m━━━━━━━━━━━━━━━━━━━━\u001b[0m\u001b[37m\u001b[0m \u001b[1m10s\u001b[0m 57ms/step - loss: 3.9138e-04\n",
            "Epoch 87/100\n",
            "\u001b[1m95/95\u001b[0m \u001b[32m━━━━━━━━━━━━━━━━━━━━\u001b[0m\u001b[37m\u001b[0m \u001b[1m11s\u001b[0m 59ms/step - loss: 4.4656e-04\n",
            "Epoch 88/100\n",
            "\u001b[1m95/95\u001b[0m \u001b[32m━━━━━━━━━━━━━━━━━━━━\u001b[0m\u001b[37m\u001b[0m \u001b[1m12s\u001b[0m 75ms/step - loss: 4.1219e-04\n",
            "Epoch 89/100\n",
            "\u001b[1m95/95\u001b[0m \u001b[32m━━━━━━━━━━━━━━━━━━━━\u001b[0m\u001b[37m\u001b[0m \u001b[1m9s\u001b[0m 65ms/step - loss: 3.6900e-04\n",
            "Epoch 90/100\n",
            "\u001b[1m95/95\u001b[0m \u001b[32m━━━━━━━━━━━━━━━━━━━━\u001b[0m\u001b[37m\u001b[0m \u001b[1m10s\u001b[0m 57ms/step - loss: 3.8785e-04\n",
            "Epoch 91/100\n",
            "\u001b[1m95/95\u001b[0m \u001b[32m━━━━━━━━━━━━━━━━━━━━\u001b[0m\u001b[37m\u001b[0m \u001b[1m11s\u001b[0m 61ms/step - loss: 3.9225e-04\n",
            "Epoch 92/100\n",
            "\u001b[1m95/95\u001b[0m \u001b[32m━━━━━━━━━━━━━━━━━━━━\u001b[0m\u001b[37m\u001b[0m \u001b[1m10s\u001b[0m 61ms/step - loss: 3.8102e-04\n",
            "Epoch 93/100\n",
            "\u001b[1m95/95\u001b[0m \u001b[32m━━━━━━━━━━━━━━━━━━━━\u001b[0m\u001b[37m\u001b[0m \u001b[1m11s\u001b[0m 75ms/step - loss: 3.6024e-04\n",
            "Epoch 94/100\n",
            "\u001b[1m95/95\u001b[0m \u001b[32m━━━━━━━━━━━━━━━━━━━━\u001b[0m\u001b[37m\u001b[0m \u001b[1m9s\u001b[0m 67ms/step - loss: 3.9824e-04\n",
            "Epoch 95/100\n",
            "\u001b[1m95/95\u001b[0m \u001b[32m━━━━━━━━━━━━━━━━━━━━\u001b[0m\u001b[37m\u001b[0m \u001b[1m9s\u001b[0m 56ms/step - loss: 3.7127e-04\n",
            "Epoch 96/100\n",
            "\u001b[1m95/95\u001b[0m \u001b[32m━━━━━━━━━━━━━━━━━━━━\u001b[0m\u001b[37m\u001b[0m \u001b[1m7s\u001b[0m 72ms/step - loss: 3.6166e-04\n",
            "Epoch 97/100\n",
            "\u001b[1m95/95\u001b[0m \u001b[32m━━━━━━━━━━━━━━━━━━━━\u001b[0m\u001b[37m\u001b[0m \u001b[1m5s\u001b[0m 57ms/step - loss: 4.2536e-04\n",
            "Epoch 98/100\n",
            "\u001b[1m95/95\u001b[0m \u001b[32m━━━━━━━━━━━━━━━━━━━━\u001b[0m\u001b[37m\u001b[0m \u001b[1m7s\u001b[0m 71ms/step - loss: 3.6369e-04\n",
            "Epoch 99/100\n",
            "\u001b[1m95/95\u001b[0m \u001b[32m━━━━━━━━━━━━━━━━━━━━\u001b[0m\u001b[37m\u001b[0m \u001b[1m6s\u001b[0m 57ms/step - loss: 3.6964e-04\n",
            "Epoch 100/100\n",
            "\u001b[1m95/95\u001b[0m \u001b[32m━━━━━━━━━━━━━━━━━━━━\u001b[0m\u001b[37m\u001b[0m \u001b[1m12s\u001b[0m 75ms/step - loss: 3.5825e-04\n",
            "\u001b[1m4/4\u001b[0m \u001b[32m━━━━━━━━━━━━━━━━━━━━\u001b[0m\u001b[37m\u001b[0m \u001b[1m1s\u001b[0m 118ms/step\n",
            "LSTM RMSE: 0.48, MAE: 0.34\n"
          ]
        }
      ],
      "source": [
        "time_step = 60  # Time series window size\n",
        "\n",
        "# Prepare data for LSTM\n",
        "scaled_data = scaler.fit_transform(data[['Close']])  # Ensure only 'Close' is scaled\n",
        "X_lstm, y_lstm = create_lstm_dataset(scaled_data, time_step)\n",
        "\n",
        "# Reshape input to 3D array [samples, time steps, features]\n",
        "X_lstm = X_lstm.reshape(X_lstm.shape[0], X_lstm.shape[1], 1)\n",
        "\n",
        "lstm_model = Sequential([\n",
        "    Input(shape=(X_lstm.shape[1], 1)),\n",
        "    LSTM(50, return_sequences=True),\n",
        "    Dropout(0.2),\n",
        "    LSTM(50, return_sequences=False),  # Final LSTM should not return sequences\n",
        "    Dropout(0.2),\n",
        "    Dense(25, activation='relu'),\n",
        "    Dense(1)  # Output layer for regression\n",
        "])\n",
        "\n",
        "lstm_model.compile(optimizer='adam', loss='mean_squared_error')\n",
        "\n",
        "# Train LSTM model\n",
        "lstm_model.fit(X_lstm[:-100], y_lstm[:-100], batch_size=32, epochs=100, verbose=1)\n",
        "\n",
        "# Predictions using LSTM model\n",
        "lstm_predictions = lstm_model.predict(X_lstm[-100:])\n",
        "lstm_predictions = scaler.inverse_transform(lstm_predictions)  # Inverse transform to original scale\n",
        "\n",
        "# Evaluate LSTM Model\n",
        "y_test_lstm = scaler.inverse_transform(y_lstm[-100:].reshape(-1, 1))\n",
        "lstm_mse = root_mean_squared_error(y_test_lstm, lstm_predictions)\n",
        "lstm_mae = mean_absolute_error(y_test_lstm, lstm_predictions)\n",
        "print(f'LSTM RMSE: {lstm_mse:.2f}, MAE: {lstm_mae:.2f}')\n"
      ]
    }
  ],
  "metadata": {
    "colab": {
      "provenance": []
    },
    "kernelspec": {
      "display_name": "Python 3",
      "language": "python",
      "name": "python3"
    },
    "language_info": {
      "codemirror_mode": {
        "name": "ipython",
        "version": 3
      },
      "file_extension": ".py",
      "mimetype": "text/x-python",
      "name": "python",
      "nbconvert_exporter": "python",
      "pygments_lexer": "ipython3",
      "version": "3.12.6"
    }
  },
  "nbformat": 4,
  "nbformat_minor": 0
}
